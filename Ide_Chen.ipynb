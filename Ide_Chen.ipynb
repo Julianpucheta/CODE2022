{
  "nbformat": 4,
  "nbformat_minor": 0,
  "metadata": {
    "colab": {
      "name": "Ide_Chen.ipynb",
      "provenance": [],
      "collapsed_sections": [],
      "include_colab_link": true
    },
    "kernelspec": {
      "name": "python3",
      "display_name": "Python 3"
    },
    "language_info": {
      "name": "python"
    }
  },
  "cells": [
    {
      "cell_type": "markdown",
      "metadata": {
        "id": "view-in-github",
        "colab_type": "text"
      },
      "source": [
        "<a href=\"https://colab.research.google.com/github/Julianpucheta/CODE2022/blob/main/Ide_Chen.ipynb\" target=\"_parent\"><img src=\"https://colab.research.google.com/assets/colab-badge.svg\" alt=\"Open In Colab\"/></a>"
      ]
    },
    {
      "cell_type": "markdown",
      "source": [
        "Se detalla el empleo del algoritmo de Chen para identificación de sistemas mediante excitación de entrada escalón.\n",
        "\n",
        "En el siguiente script, que es para emplear el método Chen de identificación de sistemas lineales, se requieren signal, io, y control. Lei Chen, Junhong Li. “Identification for the second-order systems based on the step response”. Ruifeng Ding Mathematical and Computer Modelling 53 (2011) 1074–1083. https://linkinghub.elsevier.com/retrieve/pii/S0895717710005613. También disponible en el material del Curso 2022 en https://mega.nz/file/CtYSzSiB#4cAApwsBxTlLgIeawRDPy1TK_x_gOQK4d2uxgifZMsU."
      ],
      "metadata": {
        "id": "waqDKaop2dmM"
      }
    },
    {
      "cell_type": "code",
      "source": [
        "!apt install octave"
      ],
      "metadata": {
        "id": "4TqGhI6eYj4f",
        "colab": {
          "base_uri": "https://localhost:8080/"
        },
        "outputId": "81345052-07ef-41b6-9d31-6dfa142126e8"
      },
      "execution_count": 2,
      "outputs": [
        {
          "output_type": "stream",
          "name": "stdout",
          "text": [
            "Reading package lists... Done\n",
            "Building dependency tree       \n",
            "Reading state information... Done\n",
            "octave is already the newest version (4.2.2-1ubuntu1).\n",
            "The following package was automatically installed and is no longer required:\n",
            "  libnvidia-common-460\n",
            "Use 'apt autoremove' to remove it.\n",
            "0 upgraded, 0 newly installed, 0 to remove and 20 not upgraded.\n"
          ]
        }
      ]
    },
    {
      "cell_type": "markdown",
      "source": [
        "Si se necesitan paquetes extras de Octave, se deben cargar. "
      ],
      "metadata": {
        "id": "UIvRBehR36cs"
      }
    },
    {
      "cell_type": "code",
      "source": [
        "!apt install octave-signal"
      ],
      "metadata": {
        "id": "HpZBcXAEYrMX",
        "colab": {
          "base_uri": "https://localhost:8080/"
        },
        "outputId": "59c153dc-809b-4449-b734-6c1dda3aecb6"
      },
      "execution_count": 4,
      "outputs": [
        {
          "output_type": "stream",
          "name": "stdout",
          "text": [
            "Reading package lists... Done\n",
            "Building dependency tree       \n",
            "Reading state information... Done\n",
            "octave-signal is already the newest version (1.3.2-5).\n",
            "The following package was automatically installed and is no longer required:\n",
            "  libnvidia-common-460\n",
            "Use 'apt autoremove' to remove it.\n",
            "0 upgraded, 0 newly installed, 0 to remove and 20 not upgraded.\n"
          ]
        }
      ]
    },
    {
      "cell_type": "code",
      "source": [
        "!apt install octave-io"
      ],
      "metadata": {
        "id": "yXHnXtN7Yx0Y",
        "colab": {
          "base_uri": "https://localhost:8080/"
        },
        "outputId": "f7f8f9b1-00b3-45bb-a22d-ec078bd760a6"
      },
      "execution_count": 6,
      "outputs": [
        {
          "output_type": "stream",
          "name": "stdout",
          "text": [
            "Reading package lists... Done\n",
            "Building dependency tree       \n",
            "Reading state information... Done\n",
            "octave-io is already the newest version (2.4.10-3).\n",
            "The following package was automatically installed and is no longer required:\n",
            "  libnvidia-common-460\n",
            "Use 'apt autoremove' to remove it.\n",
            "0 upgraded, 0 newly installed, 0 to remove and 20 not upgraded.\n"
          ]
        }
      ]
    },
    {
      "cell_type": "code",
      "source": [
        "!apt install octave-control"
      ],
      "metadata": {
        "id": "-Tw-r_fcY2fM",
        "colab": {
          "base_uri": "https://localhost:8080/"
        },
        "outputId": "720cb138-f659-4734-d5d0-eebe9c885ea8"
      },
      "execution_count": 8,
      "outputs": [
        {
          "output_type": "stream",
          "name": "stdout",
          "text": [
            "Reading package lists... Done\n",
            "Building dependency tree       \n",
            "Reading state information... Done\n",
            "octave-control is already the newest version (3.0.0-5).\n",
            "The following package was automatically installed and is no longer required:\n",
            "  libnvidia-common-460\n",
            "Use 'apt autoremove' to remove it.\n",
            "0 upgraded, 0 newly installed, 0 to remove and 20 not upgraded.\n"
          ]
        }
      ]
    },
    {
      "cell_type": "code",
      "execution_count": 9,
      "metadata": {
        "id": "GBUHZn-3YO0E",
        "colab": {
          "base_uri": "https://localhost:8080/"
        },
        "outputId": "ffe21d68-fa6d-4991-f8be-e7b6445fd801"
      },
      "outputs": [
        {
          "output_type": "stream",
          "name": "stdout",
          "text": [
            "Writing ID_Chen.m\n"
          ]
        }
      ],
      "source": [
        "%%writefile ID_Chen.m\n",
        "clc; clear all; close all;\n",
        "pkg load control\n",
        "pkg load signal\n",
        "pkg load io\n",
        "warning('off','all');\n",
        "%/content/Curvas_Medidas_Motor.xlsx\n",
        "tabla=xlsread('/content/Curvas_Medidas_Motor.xlsx');\n",
        "t_D=tabla(:,1);\n",
        "y_D=tabla(:,2);\n",
        "StepAmplitude=12; %12 V de entrada en Va\n",
        "%wr/va\n",
        "ret     =       0.0201;\n",
        "t       =       5e-4;\n",
        "[val lugar] =min(abs(t+ret-t_D));%Busco en ret+t1\n",
        "y_t=y_D(lugar);\n",
        "t=t_D(lugar)-ret; %t1\n",
        "\n",
        "[val lugar] =min(abs(2*t+ret-t_D));\n",
        "y_t2=y_D(lugar);\n",
        "t2=t_D(lugar)-ret;\n",
        "\n",
        "[val lugar] =min(abs(3*t+ret-t_D));\n",
        "y_t3=y_D(lugar);\n",
        "t3=t_D(lugar)-ret;\n",
        "% break\n",
        "% K=y(00)/U\n",
        "k       =       198.2488022/12;  \n",
        "% %CORROBORADOR DE PUNTOS\n",
        "% plot(tabla(:,1),tabla(:,2))\n",
        "% hold on\n",
        "% plot(t+ret,y_t,'o')\n",
        "% plot(t2+ret,y_t2,'o')\n",
        "% plot(t3+ret,y_t3,'o')\n",
        "%METODO DE CHEN\n",
        "%Funcion de la forma G(s)=K*(s+T3)/[(s+T1+1).(s+T2+1)] luego se puede\n",
        "%despreciar el cero\n",
        "k1      =       (1/StepAmplitude)*y_t/k-1;\n",
        "k2      =       (1/StepAmplitude)*y_t2/k-1; \n",
        "k3      =       (1/StepAmplitude)*y_t3/k-1; \n",
        "b       =       4*k1^3*k3-3*k1^2*k2^2-4*k2^3+k3^2+6*k1*k2*k3;\n",
        "alfa1   =       (k1*k2+k3-sqrt(b))/(2*(k1^2+k2));\n",
        "alfa2   =       (k1*k2+k3+sqrt(b))/(2*(k1^2+k2));\n",
        "beta    =       (2*k1^3+3*k1*k2+k3-sqrt(b))/(sqrt(b));\n",
        "T1      =       (-t/log(alfa1))\n",
        "T2      =       (-t/log(alfa2))\n",
        "T1=real(T1);T2=real(T2);%importa sólo la parte real\n",
        "T3      =       real(beta*(T1-T2)+T1);\n",
        "sys_va=tf(k,conv([T1 1],[T2 1]));\n",
        "dt=3e-5;\n",
        "t_s=0:dt:t_D(end-1);\n",
        "u1_Va=zeros(ret/dt,1);\n",
        "u2_Va=12*ones((.6-ret)/dt,1);%Va=12V\n",
        "u1_T=zeros(fix(.1000/dt)+1,1); %TL=0\n",
        "u2_T=ones(fix((.6-.100)/dt),1);\n",
        "u_Va=[u1_Va;u2_Va];\n",
        "% plot(t_s,u_Va);title('Tensión de entrada')\n",
        "u_T=[u1_T;u2_T];\n",
        "% plot(t_s,u_T);title('Torque de entrada')\n",
        "[y1,t1,ent]=lsim(sys_va, u_Va, t_s, [0,0]);\n",
        "% figure\n",
        "% plot(tabla(:,1),tabla(:,2))\n",
        "% hold on\n",
        "% plot(t1,y1,'k')\n",
        "% plot(t+ret,y_t,'o')\n",
        "% plot(t2+ret,y_t2,'o')\n",
        "% plot(t3+ret,y_t3,'o')\n",
        "% break\n",
        "%wr/TL\n",
        "% t_tl       =       0.1002-ret_tl;                   \n",
        "% y_t_tl     =       160.549509;\n",
        "ret_tl     =       0.1+2e-4;\n",
        "t_tl=2e-4;\n",
        "[val lugar] =min(abs(t_tl+ret_tl-t_D));\n",
        "y_t_tl=y_D(lugar);\n",
        "t_tl=t_D(lugar)-ret_tl;\n",
        "% t2_tl      =       0.1005-ret_tl;\n",
        "% y_t2_tl    =       101.4371121;\n",
        "[val lugar] =min(abs(2*t_tl+ret_tl-t_D));\n",
        "y_t2_tl=y_D(lugar);\n",
        "t2_tl=t_D(lugar)-ret_tl;\n",
        "% t3_tl      =       0.1008-ret_tl;\n",
        "% y_t3_tl    =       72.4383423;\n",
        "[val lugar] =min(abs(3*t_tl+ret_tl-t_D));\n",
        "y_t3_tl=y_D(lugar);\n",
        "t3_tl=t_D(lugar)-ret_tl;\n",
        "% 7,5 10-2\n",
        "TL=7.5e-2;% TL:Amplitud del escalon de Torque de entrada\n",
        "% K=y(00)/U\n",
        "k_tl       =       -(46.2-198)/TL;\n",
        "% %CORROBORADOR DE PUNTOS\n",
        "% plot(tabla(:,1),-tabla(:,2)+k)\n",
        "% hold on\n",
        "% plot(t_tl+ret_tl,y_t_tl,'o')\n",
        "% plot(t2_tl+ret_tl,y_t2_tl,'o')\n",
        "% plot(t3_tl+ret_tl,y_t3_tl,'o')\n",
        "%METODO DE CHEN\n",
        "% % % k1_tl      =      (1/TL)*y_t_tl/k_tl-1;\n",
        "% % % k2_tl      =   (1/TL)*y_t2_tl/k_tl-1; \n",
        "% % % k3_tl      =     (1/TL)*y_t3_tl/k_tl-1; \n",
        "yid_1=-(y_t_tl-198.2)\n",
        "yid_2=-(y_t2_tl-198.2)\n",
        "yid_3=-(y_t3_tl-198.2)\n",
        "% plot(tabla(:,1),tabla(:,2));hold on;%plot(t_tl,yid_1,'o',t2_tl,yid_2,'o',t3_tl,yid_3,'o')\n",
        "% plot(t_tl+ret_tl,yid_1,'o',t2_tl+ret_tl,yid_2,'o',t3_tl+ret_tl,yid_3,'o')\n",
        "k1_tl      =      (1/TL)*yid_1/k_tl-1;\n",
        "k2_tl      =   (1/TL)*yid_2/k_tl-1; \n",
        "k3_tl      =     (1/TL)*yid_3/k_tl-1; \n",
        "b_tl       =       4*k1_tl^3*k3_tl-3*k1_tl^2*k2_tl^2-4*k2_tl^3+k3_tl^2+6*k1_tl*k2_tl*k3_tl;\n",
        "alfa1_tl   =       (k1_tl*k2_tl+k3_tl-sqrt(b_tl))/(2*(k1_tl^2+k2_tl));\n",
        "alfa2_tl   =       (k1_tl*k2_tl+k3_tl+sqrt(b_tl))/(2*(k1_tl^2+k2_tl));\n",
        "beta_tl    =       (2*k1_tl^3+3*k1_tl*k2_tl+k3_tl-sqrt(b_tl))/(sqrt(b_tl));\n",
        "T1_tl      =       (-t_tl/log(alfa1_tl)) \n",
        "T2_tl      =       (-t_tl/log(alfa2_tl))\n",
        "T1_tl=real(T1_tl);T2_tl=real(T2_tl);\n",
        "%importa sólo la parte real\n",
        "T3_tl      =       beta_tl*(T1_tl-T2_tl)+T1_tl;\n",
        "sys_T=tf(k_tl*[T3_tl 1],conv([T1_tl 1],[T2_tl 1]));\n",
        "dt=3e-5;\n",
        "t_s=(0:dt:t_D(end-1))';\n",
        "u1_Va=zeros(ret/dt,1);\n",
        "u2_Va=12*ones((.6-ret)/dt,1);%Va=12V\n",
        "u1_T=zeros(fix(.1000/dt)+1,1); %TL=0\n",
        "u2_T=TL*ones(fix((.6-.100)/dt),1);\n",
        "u_Va=[u1_Va;u2_Va];\n",
        "% plot(t_s,u_Va);title('Tensión de entrada')\n",
        "u_T=[u1_T;u2_T];\n",
        "% plot(t_s,u_T);title('Torque de entrada')\n",
        "[y2,t2_,ent2]=lsim(sys_T, u_T, t_s,[0,0]);\n",
        "hfig1 = figure(1); set(hfig1, 'Visible', 'off');\n",
        "hold on;\n",
        "plot(tabla(:,1),tabla(:,2))\n",
        "plot(t_s,y1-y2,'r');legend('Datos','Modelado')\n",
        "plot(t +ret,y_t,'o',t2+ret,y_t2,'o',t3+ret,y_t3,'o')\n",
        "plot(t_tl+ret_tl,y_t_tl,'o',t2_tl+ret_tl,y_t2_tl,'o',t3_tl+ret_tl,y_t3_tl,'o')\n",
        "print(hfig1,'Resultados_ID_Chen','-dpng');\n",
        "save('ID_Chen.mat','-v7');"
      ]
    },
    {
      "cell_type": "markdown",
      "source": [
        "Antes de correr el script de .m, debe cargarse el archivo con las curvas al entorno, empleando el ícono de subir archivo. Se recomienda emplear formatos compatibles.\n",
        "\n",
        "Se puede correr el script y mostrar las imágenes generadas, con la librería PIL de Python."
      ],
      "metadata": {
        "id": "btDW_MxA3pp_"
      }
    },
    {
      "cell_type": "code",
      "source": [
        "# -W : no window system\n",
        "!octave -W ID_Chen.m\n",
        "import scipy.io\n",
        "mat = scipy.io.loadmat('/content/ID_Chen.mat')\n",
        "from PIL import Image\n",
        "imt = Image.open(\"/content/Resultados_ID_Chen.png\")\n",
        "imt"
      ],
      "metadata": {
        "id": "SF-F_mFrYh4j",
        "colab": {
          "base_uri": "https://localhost:8080/",
          "height": 1000
        },
        "outputId": "bf9f8059-0727-4b73-cc59-3f866f8d25b1"
      },
      "execution_count": 10,
      "outputs": [
        {
          "output_type": "stream",
          "name": "stdout",
          "text": [
            "Detected XLS interfaces: OpenJDK 64-Bit Server VM warning: Archived non-system classes are disabled because the java.system.class.loader property is specified (value = \"org.octave.OctClassLoader\"). To use archived non-system classes, this property must be not be set\n",
            "T1 =    4.0791e-04\n",
            "T2 =  2.8211e-05 + 5.0602e-06i\n",
            "yid_1 =  85.593\n",
            "yid_2 =  109.84\n",
            "yid_3 =  126.97\n",
            "T1_tl =    4.0766e-04\n",
            "T2_tl =  3.1946e-05 + 4.3247e-05i\n"
          ]
        },
        {
          "output_type": "execute_result",
          "data": {
            "text/plain": [
              "<PIL.PngImagePlugin.PngImageFile image mode=RGB size=1200x900 at 0x7F726096F910>"
            ],
            "image/png": "[encoded data removed]"
          },
          "metadata": {},
          "execution_count": 10
        }
      ]
    },
    {
      "cell_type": "markdown",
      "source": [
        "También puede emplearse el comando save() desde el script, y luego desde Colab levantar el archivo. En éste caso ID_Chen.mat. Luego se emplean funciones Python de matplotlib y se muestran las variables de interés."
      ],
      "metadata": {
        "id": "l4SXrP1R3j08"
      }
    },
    {
      "cell_type": "code",
      "source": [
        "import numpy as np\n",
        "import scipy.io\n",
        "mat = scipy.io.loadmat('/content/ID_Chen.mat')\n",
        "#%plot(t,ys,'r');title('Control realimentación de estados');xlabel('Tiempo');\n",
        "y1=mat.get('y1')\n",
        "y2=mat.get('y2')\n",
        "t_s=mat.get('t_s')\n",
        "t_D=mat.get('t_D')\n",
        "y_D=mat.get('y_D')\n",
        "#Importamos los datos que se generaron desde Octave en el archivo .mat\n",
        "#Ahora empezamos a plotear las variables\n",
        "from matplotlib import pyplot as plt\n",
        "fig, axs = plt.subplots(2)\n",
        "fig.suptitle('Identificación Chen')\n",
        "axs[0].plot(t_D, y_D, linewidth =1.0)\n",
        "axs[0].grid( True )\n",
        "axs[0].set_title('$Mediciones.$', fontsize=10);\n",
        "axs[0].set_ylabel('$\\omega_t$',rotation=0, fontsize=12) \n",
        "axs[1].plot(t_s, y1-y2, linewidth =1.0)\n",
        "axs[1].set_ylabel('$Identificada$',rotation=0, fontsize=12)\n",
        "axs[1].grid( True )\n",
        "axs[1].set_title('$Método\\n Chen.$', fontsize=10);"
      ],
      "metadata": {
        "id": "A5G3PCIx4WWJ",
        "colab": {
          "base_uri": "https://localhost:8080/",
          "height": 294
        },
        "outputId": "b186a6a1-b1cf-4a39-bd1f-0484013337fc"
      },
      "execution_count": 11,
      "outputs": [
        {
          "output_type": "display_data",
          "data": {
            "text/plain": [
              "<Figure size 432x288 with 2 Axes>"
            ],
            "image/png": "[encoded data removed]"
          },
          "metadata": {
            "needs_background": "light"
          }
        }
      ]
    }
  ]
}